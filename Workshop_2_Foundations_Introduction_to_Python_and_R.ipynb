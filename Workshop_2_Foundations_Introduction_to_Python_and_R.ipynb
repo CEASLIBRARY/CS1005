{
  "cells": [
    {
      "cell_type": "markdown",
      "source": [
        "# **Introduction to Python Part-2**"
      ],
      "metadata": {
        "id": "I-yzpr1ncpy7"
      }
    },
    {
      "cell_type": "markdown",
      "metadata": {
        "id": "duKyh-Svhec6"
      },
      "source": [
        "##**Objectives**\n",
        "\n",
        " * Control Flow\n",
        "  * Conditional Statements\n",
        "  * Loops\n",
        " * Functions\n",
        "  * User-defined\n",
        "  * Variable Scope\n",
        "  \n",
        "  \n"
      ]
    },
    {
      "cell_type": "markdown",
      "metadata": {
        "id": "RPMw3aqMhedG"
      },
      "source": [
        "## **Control Flow**\n"
      ]
    },
    {
      "cell_type": "markdown",
      "metadata": {
        "id": "bdy3mf2NhedX"
      },
      "source": [
        "### **If and else Decision Blocks**\n",
        "#### **If block**\n",
        "* Consists of a Condition or Boolean expression followed by one or more statements.\n",
        "* If the Condition or Boolean expression is **True**, then the statement(s) are executed. If **False**, then then the statement(s) are skipped\n",
        "\n",
        "***if   < condition >:***\n",
        "<br>\n",
        "$\\;\\;\\;\\;\\;\\;$***statement(s)***"
      ]
    },
    {
      "cell_type": "code",
      "execution_count": null,
      "metadata": {
        "id": "SKoriJcLhedX"
      },
      "outputs": [],
      "source": [
        "a = 5\n",
        "if a <= 5:\n",
        "    print('\\'a\\' is less than or equal to 5')\n",
        "    print('This statement is also executed under the if block')"
      ]
    },
    {
      "cell_type": "code",
      "execution_count": null,
      "metadata": {
        "id": "pX_OfZvshedX"
      },
      "outputs": [],
      "source": [
        "if a <= 4:\n",
        "    print('\\'a\\' is less than or equal to 5')\n",
        "    print('This statement is also executed under the if block')\n",
        "print('DONE')"
      ]
    },
    {
      "cell_type": "markdown",
      "source": [
        "**<h5><center>Note</center></h5>**\n",
        "\n",
        "**Python Blocks**\n",
        "* Every Python block like the **' if '** block is marked by a colon **' : '**\n",
        "* All the statements under the block must be indented under the block\n",
        "* Indentation must be consistent for each block and the whole python code\n"
      ],
      "metadata": {
        "id": "AYSM0zjLg_4V"
      }
    },
    {
      "cell_type": "markdown",
      "metadata": {
        "id": "TFpD1fFShedX"
      },
      "source": [
        "\n",
        "#### **If..else blocks**\n",
        "* **' if '** block may be followed by an optional **' else '** block which executes when the Condition or Boolean expression is false\n",
        "* If the Condition or Boolean expression is **True**, then the statement(s) 1 are executed. If **False**, then then the statement(s) 2 are executed\n",
        "* The **' else '** block has no conditions attached\n",
        "* There can be only one **' if '** block and one **' else '** block \n",
        "\n",
        "***if   < condition >:***\n",
        "<br>\n",
        "$\\;\\;\\;\\;\\;\\;$***statement(s) 1***\n",
        "<br>\n",
        "***else:***\n",
        "<br>\n",
        "$\\;\\;\\;\\;\\;\\;$***statement(s) 2***"
      ]
    },
    {
      "cell_type": "code",
      "execution_count": null,
      "metadata": {
        "id": "NBjXDEIIhedY"
      },
      "outputs": [],
      "source": [
        "a = 6\n",
        "if a <= 5:\n",
        "    print('\\'a\\' is less than or equal to 5')\n",
        "    print('This statement is also executed under the if block')\n",
        "else:\n",
        "    print('\\'a\\' must be greater than 5')\n",
        "    print('This statement is also executed under the else block')\n",
        "print('DONE')"
      ]
    },
    {
      "cell_type": "markdown",
      "metadata": {
        "id": "GO4wlJM0hedW"
      },
      "source": [
        "## **Exercise 1**\n",
        "\n",
        "1. Take two inputs from user and check whether they are equal or not.<br><br>\n",
        "2. Take 3 inputs from user and check if\n",
        "   * they all are equal\n",
        "   * any of two are equal<br>\n",
        "     **HINT**:  use **and**, **or**<br><br> \n",
        "3. Take two number from user and check whether the sum is greater than 5, less than 5 or equal to 5.   \n",
        "   **HINT**:  Since the **input()** outputs a string, use the **float()** function to convert to a floating number before comparing<br><br>\n"
      ]
    },
    {
      "cell_type": "markdown",
      "metadata": {
        "id": "PVWBoBM6hedZ"
      },
      "source": [
        "#### **If..elif..else blocks**\n",
        "\n",
        "* **' if '** block may be followed by one or more optional **' elif '** (Else if) blocks and one optional **' else '** block\n",
        "* The **' if '** block and **' elif '** blocks must have conditions attached. The **' else '** block has no conditions attached\n",
        "* There can be only one **' if '** block and one **' else '** block. There can be more than one **' elif '** blocks. \n",
        "* If the Condition or Boolean expression under the **' if '** block is **False**, then the condition of the next **' elif '** block is examined. If **True**, the statement(s) 2 are executed. If **False**, the next **' elif '** block is examined until the statements under the **' else '** block are executed if an **' else '** block exists.  \n",
        "\n",
        "***if   < condition >:***\n",
        "<br>\n",
        "$\\;\\;\\;\\;\\;\\;$***statement(s) 1***\n",
        "<br>\n",
        "***elif   < condition >:***\n",
        "<br>\n",
        "$\\;\\;\\;\\;\\;\\;$***statement(s) 2***\n",
        "<br>\n",
        "***elif   < condition >:***\n",
        "<br>\n",
        "$\\;\\;\\;\\;\\;\\;$***statement(s) 3***\n",
        "<br>\n",
        "***else:***\n",
        "<br>\n",
        "$\\;\\;\\;\\;\\;\\;$***statement(s) 4***"
      ]
    },
    {
      "cell_type": "code",
      "execution_count": null,
      "metadata": {
        "id": "JWqAU3JDhedZ"
      },
      "outputs": [],
      "source": [
        "b = input('Type a number for \\'b\\': ')\n",
        "a = float(b)\n",
        "if a <= 5:\n",
        "    print('\\'a\\' is less than or equal to 5')\n",
        "elif a > 5 and a <= 8:\n",
        "    print('\\'a\\' is greater than 5 and less than or equal to 8')\n",
        "elif a > 8 and a <= 10:\n",
        "    print('\\'a\\' is greater than 8 and less than or equal to 10')\n",
        "else:\n",
        "    print('\\'a\\' must be greater than 10')\n",
        "print('DONE')"
      ]
    },
    {
      "cell_type": "markdown",
      "metadata": {
        "id": "hX2yqEnhhedZ"
      },
      "source": [
        "## **Exercise 2**\n",
        "#### UC 6+2 program\n",
        "Write a program to generate and print the UC 6+2 ID for a given first & last name.\n",
        "1. Take the user's first name and last name and store them in two different variables.\n",
        "2. If the length of the last name is >=6, take the first 6 letters from the last name & first and last letters from the first name to form the six plus two.\n",
        "3. If the length of the last name is <6, take all of the last name, pick first letters of first name to make up for the length the last name & first and last letters from the remainder of the first name\n",
        "4. Print out the six plus two in lower case"
      ]
    },
    {
      "cell_type": "code",
      "execution_count": null,
      "metadata": {
        "id": "3kaaLPSGhedZ"
      },
      "outputs": [],
      "source": [
        "# Take input for user's first name and store in a variable\n",
        "first_name = '' # Replace this line with the right code\n",
        "\n",
        "# Take input for user's last name and store in a variable\n",
        "last_name = '' # Replace this line with the right code\n",
        "\n",
        "\n",
        "\n",
        "# Use the appropriate If and else Decision Block with a condition that compares the Length of the Last name to 6\n",
        "# In the If and else Decision Block store the six plus two in a variable\n",
        "# Use the Tips below in your If and else Decision Block\n",
        "\n",
        "\n",
        "\n",
        "\n",
        "\n",
        "# Print out the six plus two in lower case\n",
        "\n",
        "\n",
        "\n",
        "# Tips (Replace the portions marked with ?)\n",
        "# ********************************************\n",
        "# For length of the last name is >=6, sixplus2 = last_name[0:?] + first_name[0] + first_name[?]\n",
        "# For length of the last name is <6, sixplus2 = last_name + first_name[0:(6-len(?))+1] + first_name[?]"
      ]
    },
    {
      "cell_type": "markdown",
      "metadata": {
        "id": "8Y5n5oTQheda"
      },
      "source": [
        "### **While Loop**\n",
        "* **while** loop will execute as long as the looping condition or Boolean expression is **True**\n",
        "* The loop is exited when the looping condition or Boolean expression becomes **False**\n",
        "\n",
        "  ***while   < condition >:***<br>\n",
        "  $\\;\\;\\;\\;\\;\\;$***statement(s)*** \n",
        "\n",
        "#### **Infinite loop**\n",
        "Occurs when\n",
        "* Loop condition cannot possibly be False example ***while 1 != 2:*** or ***while True:***\n",
        "* Logic of the loop prevents the loop condition from becoming false\n",
        "  \n",
        " ***count = 10***<br>\n",
        " ***while count>0:***<br>\n",
        " $\\;\\;\\;\\;\\;\\;$***count += 1***\n",
        "\n",
        "#### **Break Statement**\n",
        "**break** - Used to exit the current loop"
      ]
    },
    {
      "cell_type": "code",
      "execution_count": null,
      "metadata": {
        "id": "P4T67PRcheda"
      },
      "outputs": [],
      "source": [
        "count = 0\n",
        "while True:\n",
        "    print(count)\n",
        "    count +=1 # count = count + 1\n",
        "    if count >= 10:\n",
        "        break"
      ]
    },
    {
      "cell_type": "code",
      "execution_count": null,
      "metadata": {
        "id": "PhZZTVv2hedb"
      },
      "outputs": [],
      "source": [
        "import random #will explain import later \n",
        "count = 0\n",
        "while count < 3:\n",
        "    num = random.randint(1,6) # This will generate a random number between 1 and 6\n",
        "    print(num)\n",
        "    if num == 5:\n",
        "        print('sorry, you lose!')\n",
        "        break\n",
        "    count +=1\n",
        "    "
      ]
    },
    {
      "cell_type": "markdown",
      "source": [
        "**<h5><center>Note</center></h5>**\n",
        "\n",
        "**Import command**\n",
        "* Used to import external modules and packages containing functions and other definitions\n",
        "\n",
        "**Module 'random' and function 'randint()'**\n",
        "* **'random'** module contains definitions for generating random numbers\n",
        "* **'randint (a , b)'** is defined in module **'random'** to generate a random integer between **'a'** and **'b'** \n"
      ],
      "metadata": {
        "id": "FaPybe0wsJGe"
      }
    },
    {
      "cell_type": "markdown",
      "metadata": {
        "id": "npou2W_ihedb"
      },
      "source": [
        "### **For Loop**\n",
        "* Each item in the sequence is assigned to the iterating variable and the statements are executed for each item until the entire sequence is exhausted.\n",
        "  \n",
        "  ***for < iterating variable > in < sequence > :***<br>\n",
        "  $\\;\\;\\;\\;\\;\\;$***statement(s)*** "
      ]
    },
    {
      "cell_type": "code",
      "execution_count": null,
      "metadata": {
        "id": "w97xuhAuhedb"
      },
      "outputs": [],
      "source": [
        "for var in 'string':\n",
        "    print(var)"
      ]
    },
    {
      "cell_type": "code",
      "execution_count": null,
      "metadata": {
        "id": "sJXpscoEhedb"
      },
      "outputs": [],
      "source": [
        "list1 = ['banana','orange','mango']\n",
        "for fruit in list1:\n",
        "    print(fruit)"
      ]
    },
    {
      "cell_type": "code",
      "execution_count": null,
      "metadata": {
        "id": "fsO-91SHhedc"
      },
      "outputs": [],
      "source": [
        "for num in (2,4,1,34,5):\n",
        "    print(num)"
      ]
    },
    {
      "cell_type": "markdown",
      "metadata": {
        "id": "KMmqICwEhedc"
      },
      "source": [
        "**<h5><center>Note</center></h5>**\n",
        "\n",
        "**range()** function generates a list of numbers in a specified range\n",
        "* **range ( num )** - generates a list of numbers from **0** to **'num - 1'**\n",
        "* **range ( start , limit )** - generates a list of numbers from **'start'** to **'limit - 1'**\n",
        "* **range ( start , limit , increment )** - generates a list of numbers from **'start'**, incrementing by **'increment'** until a number less or equal to **'limit - 1'**"
      ]
    },
    {
      "cell_type": "code",
      "execution_count": null,
      "metadata": {
        "id": "xtywNZMfhedc"
      },
      "outputs": [],
      "source": [
        "for num in range(0,20,4):\n",
        "    print(num)"
      ]
    },
    {
      "cell_type": "code",
      "execution_count": null,
      "metadata": {
        "id": "DBOgbCzYhedd"
      },
      "outputs": [],
      "source": [
        "fruits = ['banana','apple','orange','tomato','pear']\n",
        "print('You have...')\n",
        "for f in fruits:\n",
        "    if f == 'tomato':\n",
        "        print('tomato is not a fruit!')\n",
        "        break\n",
        "    print(f)\n",
        "print('A fine selection of fruits!')"
      ]
    },
    {
      "cell_type": "markdown",
      "metadata": {
        "id": "OdJ-IlJChedd"
      },
      "source": [
        "## **Exercise 3**\n",
        "#### DNA to RNA Transcription\n",
        "The process of converting DNA to RNA<br>\n",
        "G->C<br>\n",
        "C->G<br>\n",
        "A->T<br>\n",
        "T->A<br>\n",
        "Example:<br>\n",
        "**Input:** GCTAGCCTACG<br>\n",
        "**Output:** CGATCGGATGC\n",
        "\n",
        "Write a program that takes a DNA string input from a user and transcribes the string into an RNA string using rules above\n",
        "* Your program should be case insensitive\n",
        "* The program should exit if any other letter aside G,C, A and T is encountered in the DNA string\n",
        "* Your program should output the RNA string in upper cases"
      ]
    },
    {
      "cell_type": "code",
      "execution_count": null,
      "metadata": {
        "id": "PdTyIcuPhedd"
      },
      "outputs": [],
      "source": [
        "# Take input for DNA string and store in a variable DNA_string\n",
        "DNA_string = '' # Replace this line with the right code\n",
        "\n",
        "# Initialize the RNA output as an empty string\n",
        "RNA_string = ''\n",
        "\n",
        "# Use \"for\" loop to traverse the DNA string. Use \"If..elif..else\" sub block to check and concactenate the appropriate letter \n",
        "# to RNA_string.\n",
        "# Use \"else\" block in the \"If..elif..else\" sub block to output an error message and break if a diffrent letter is encountered\n",
        "\n",
        "for i in DNA_string.upper():\n",
        "    # the upper() method is used to make our program case insensitive\n",
        "    if i == 'G':\n",
        "        RNA_string = RNA_string + 'C'\n",
        "    # Continue the \"elif\" blocks of the \"If..elif..else\" block for the other letters\n",
        "    \n",
        "    \n",
        "    \n",
        "    \n",
        "    # Complete the \"If..elif..else\" block with \"else\" block for an error message assigned to RNA_string \n",
        "    # break out of the loop\n",
        "\n",
        "    \n",
        "else:\n",
        "    # This else is attached to the for loop\n",
        "    print('Done with Translation')\n",
        "\n",
        "print('DNA output: ', RNA_string)"
      ]
    },
    {
      "cell_type": "markdown",
      "source": [
        "### **Nested Loops**\n",
        "\n",
        "Use **for** and **while** loops to create a loop inside a loop"
      ],
      "metadata": {
        "id": "HLWaFTbE5gJJ"
      }
    },
    {
      "cell_type": "code",
      "source": [
        "# A simple nested loop\n",
        "\n",
        "for i in range(5): # OUTER LOOP\n",
        "  for j in range(5): # INNER LOOP\n",
        "    print(i, j)"
      ],
      "metadata": {
        "id": "J06Rwpyx59DZ"
      },
      "execution_count": null,
      "outputs": []
    },
    {
      "cell_type": "code",
      "source": [
        "list1 = [1,2,3,4,5]\n",
        "list2 = [6,7,8,9,10]\n",
        "list3 = []\n",
        "\n",
        "for i in range(len(list1)):\n",
        "  for j in range(len(list2)):\n",
        "    list3.append(list2[j] * list1[i])\n",
        "    \n",
        "print(list3)"
      ],
      "metadata": {
        "id": "pafzj5XD6ptB"
      },
      "execution_count": null,
      "outputs": []
    },
    {
      "cell_type": "markdown",
      "metadata": {
        "id": "4kML9sL2hedf"
      },
      "source": [
        "## **Functions**\n",
        "* A block of code, organized to perform an action and to be reusable\n",
        "* **System-defined** functions - Built-in functions like **print**, **len**, **range**, **input**, etc. These are already defined once you install Python\n",
        "* **User-defined** functions - You can also create your own functions\n",
        "\n",
        "### **Defining a User Defined Function**\n",
        "* Begins with keyword **'def'** followed by the function name and parentheses **( )**\n",
        "* Any input parameter/arguments should be placed within these parentheses. Multiple inputs are separated by commas **( , )** \n",
        "* Code block starts with colon (**:**) and is indented\n",
        "* **'return'** statement is optional and it exits a function\n",
        "* **'return expression'** statement passes back an expression or value to the caller of the function. \n",
        "* A fuction returns multiple values or objects as a list\n",
        "\n",
        "***def function name ( [ parameter[s] ] ) :***\n",
        "<br>\n",
        "$\\;\\;\\;\\;\\;\\;$***function body***\n",
        "<br>\n",
        "$\\;\\;\\;\\;\\;\\;$***return [Expression]***\n"
      ]
    },
    {
      "cell_type": "code",
      "execution_count": null,
      "metadata": {
        "id": "_0x0k0GChedg"
      },
      "outputs": [],
      "source": [
        "def printme(str):\n",
        "    #This prints a string passed into the function\n",
        "    print(str)"
      ]
    },
    {
      "cell_type": "markdown",
      "metadata": {
        "id": "MZMg6yzDhedi"
      },
      "source": [
        "### **Calling a Function**\n",
        "After the function definition, we can execute by either\n",
        " * Calling it from same script or another script or function\n",
        " * Calling it directly from command prompt"
      ]
    },
    {
      "cell_type": "code",
      "execution_count": null,
      "metadata": {
        "id": "eT8-7m1Bhedi"
      },
      "outputs": [],
      "source": [
        "# Function call\n",
        "printme('First call to user defined function')\n",
        "printme('Second call to user defined function')"
      ]
    },
    {
      "cell_type": "markdown",
      "metadata": {
        "id": "8ydXY_Bphedi"
      },
      "source": [
        "### **Variable Scope (Global vs. Local variables)**\n",
        "* Variables defined outside a function body have a Global scope. (Accessible anywhere within the program)\n",
        "* Variables defined inside a function body have a Local scope. (Accessible only within the function even if it has the same name as another)"
      ]
    },
    {
      "cell_type": "code",
      "execution_count": null,
      "metadata": {
        "id": "MQesQfyfhedj"
      },
      "outputs": [],
      "source": [
        "pressure = 103.9 # 'pressure' is Global\n",
        "k = 0 # 'k' is Global\n",
        "def adjust(t):\n",
        "    # 'k' is Local to this function and has different value from Global 'k'\n",
        "    k = 1.43\n",
        "    temperature = t * 1.43 / pressure # 'temperature' is Local to function\n",
        "    return(temperature)"
      ]
    },
    {
      "cell_type": "markdown",
      "metadata": {
        "id": "Bip1evsIhedj"
      },
      "source": [
        "## **Exercise 4**\n",
        "### Convert the UC 6+2 program to a function\n",
        "Create a function to generate and return UC 6+2 ID for a given first & last name.\n",
        "\n",
        "1. The inputs should be the first name and last name in that order\n",
        "2. If the length of the last name is >=6, take the first 6 letters from the last name & first and last letters from the first name to form the six plus two.\n",
        "3. If the length of the last name is <6, take all of the last name, pick first letters of first name to make up for the length the last name & first and last letters from the remainder of the first name\n",
        "4. Return the six plus two in lower case"
      ]
    },
    {
      "cell_type": "code",
      "execution_count": null,
      "metadata": {
        "id": "NsYAAnCLhedj"
      },
      "outputs": [],
      "source": [
        "def uc_6_2(first_name,last_name):\n",
        "    # Use the appropriate If and else Decision Block with a condition that compares the Length of the Last name\n",
        "    # In the If and else Decision Block store the six plus two in a variable\n",
        "    # Use the Tips below in your If and else Decision Block\n",
        "    if len(last_name) >= 6:\n",
        "        six_plus_2 = '' # Replace this line with the right code\n",
        "        \n",
        "    # Continue the \"If..elif..else\" block with the appropriate block for the remaining scenario\n",
        "    \n",
        "    # Return the six plus two in lower case\n",
        "    return \n",
        "\n",
        "\n",
        "\n",
        "# Tips (Replace the portions marked as with ?)\n",
        "# ********************************************\n",
        "# For length of the last name is >=6, sixplus2 = last_name[0:?] + first_name[0] + first_name[?]\n",
        "# For length of the last name is <6, sixplus2 = last_name + first_name[0:(6-len(?))+1] + first_name[?]"
      ]
    },
    {
      "cell_type": "markdown",
      "source": [
        "### **Assignment Problems**\n",
        "\n"
      ],
      "metadata": {
        "id": "9kWn_GSRYF68"
      }
    },
    {
      "cell_type": "markdown",
      "source": [
        "#### **Assignment 5**\n",
        "\n",
        "1. Replace the numbers in the given list `lst` and create a new list named `new_lst`:\n",
        "\n",
        "*   Replace numbers that are multiples of 3 with\"Fizz\"\n",
        "*   Replace numbers that are multiplies of 5 with \"Buzz\"\n",
        "*   Replace numbers that are multiplies of 3 and 5 with \"FizzBuzz\"\n",
        "\n",
        "Example: \n",
        "\n",
        "`lst = [1, 2, 3, 4, 5, ...... 15]`\n",
        "\n",
        "`new_lst = [1, 2, 'Fizz', 4, 'Buzz', ...... 'FizzBuzz']`"
      ],
      "metadata": {
        "id": "nOQkeAlIZJqd"
      }
    },
    {
      "cell_type": "code",
      "source": [
        "lst = list(range(1,51))\n",
        "\n",
        "\n",
        "print(new_lst)"
      ],
      "metadata": {
        "id": "oXM2C3LgZ8zR"
      },
      "execution_count": null,
      "outputs": []
    },
    {
      "cell_type": "markdown",
      "source": [
        "2. The Fibonacci numbers begin with 1, 1. After the first two numbers, each number is the sum of the previous two. 1 + 1 = 2, so 2 is the third number. Then 1 + 2 = 3, so 3 is the next one, and so on.\n",
        "\n",
        "* Write a script that create a list named fib_list that contains the **first 20 elements** of the Fibonacci numbers. This is how the first 6 elements of the fibonacci number look like: `fib_list=[1, 1, 2, 3, 5, 8]`"
      ],
      "metadata": {
        "id": "ypL1Ur4kZ-Xp"
      }
    },
    {
      "cell_type": "code",
      "source": [
        "\n",
        "\n",
        "\n",
        "\n"
      ],
      "metadata": {
        "id": "c_jrx-HNauAT"
      },
      "execution_count": null,
      "outputs": []
    },
    {
      "cell_type": "markdown",
      "source": [
        "#### **Assignment 6**\n",
        "\n",
        "1. \n",
        "The mythical island nation of Laskoatu has a rather simple tax code.  The first 1000 dollars of income is taxed at 6%.  The next 1000 dollars is taxed at 13%.  Any income beyond the first 2000 dollars is taxed at 17.5%.  Complete the following script so that it compute tax for the given salary and store it in a variable called `Tax` as a float with with **two decimal numbers**.\n",
        "\n",
        "*   Note1: your code should work for any given value of salary. <br>\n",
        "*   Note2: For rounding a float number to have two decimal numbers, use round() function:\n",
        "https://www.w3schools.com/python/ref_func_round.asp\n",
        "\n",
        "Example:\n",
        "```\n",
        "Salary: 1500\n",
        "\n",
        "The tax owed is: $125.00 \n",
        "```"
      ],
      "metadata": {
        "id": "mp_FK1VBax9U"
      }
    },
    {
      "cell_type": "code",
      "source": [
        "salary = \n",
        "\n",
        "\n",
        "\n",
        "print(\"The tax owed is: \",Tax)"
      ],
      "metadata": {
        "id": "FeMHm_dibGdV"
      },
      "execution_count": null,
      "outputs": []
    },
    {
      "cell_type": "markdown",
      "source": [
        "2. (a) Create a dictionary named `letters_new`:\n",
        "\n",
        "*   The keys should be the keys of the given dictionary `letters` that are **strings**\n",
        "*   Values should be empty lists\n",
        "\n",
        "\n",
        "The new dictionary should look like:\n",
        "\n",
        "`letters_new={'a':[], 'b':[], ......}`"
      ],
      "metadata": {
        "id": "mpRsvZdxbHhd"
      }
    },
    {
      "cell_type": "code",
      "source": [
        "letters = {'a':'apple', 4: None, 'b': 'beetle', 'c': 'cat', 2: None, 'd': 'diamond'}\n",
        "\n",
        "\n",
        "print(letters_new)"
      ],
      "metadata": {
        "id": "BUA5oY4PbQ3O"
      },
      "execution_count": null,
      "outputs": []
    },
    {
      "cell_type": "markdown",
      "source": [
        "(b) Distribute the words from the list below to the **letters_new** dictionary you have created in the previous problem according to their first letter. If a word start with a, it should be added to the list corresponding to key a\n",
        "\n",
        "The new dictionary should look like:\n",
        "\n",
        "`letters_new={'a':['a', 'an'], ......}`"
      ],
      "metadata": {
        "id": "r-keaXAkbRx-"
      }
    },
    {
      "cell_type": "code",
      "source": [
        "wordlst = ['a', 'be', 'an', 'the', 'can', 'do', 'did', 'to', 'been']\n",
        "\n",
        "\n",
        "\n",
        "print(letters_new)"
      ],
      "metadata": {
        "id": "s-bYTTEWbZN-"
      },
      "execution_count": null,
      "outputs": []
    },
    {
      "cell_type": "markdown",
      "source": [
        "3. Create a new list named **lst_div** that includes the result from dividing each number from lst1 by the corresponding number in lst2. \n",
        "**Note:** For the cases when the divisor is 0, the new list should include **None**"
      ],
      "metadata": {
        "id": "yaoMPP1pbjuO"
      }
    },
    {
      "cell_type": "code",
      "source": [
        "lst1 = [-1, 0, 2, 178, -17.2, 12, -2, -3, 12]\n",
        "lst2 = [0, 5, 0, 2, 12, 0.5, 0, 0.25, 0]\n",
        "\n",
        "\n",
        "\n",
        "\n",
        "\n",
        "print(lst_div)"
      ],
      "metadata": {
        "id": "daZCVqDWbzwY"
      },
      "execution_count": null,
      "outputs": []
    },
    {
      "cell_type": "markdown",
      "source": [
        "4. Create a list named `word_common` which contains words that are common among the two quotes given. Make sure your result is realistic and punctuations, lowercase and uppercase do not affect your result."
      ],
      "metadata": {
        "id": "OkM0hBYBcTHZ"
      }
    },
    {
      "cell_type": "code",
      "source": [
        "q1=\"Flowers are a proud assertion that a ray of beauty out values all the utilities in the world.\"\n",
        "q2=\"A flower does not use words to announce its arrival to the world; it just blooms.\"\n",
        "\n",
        "\n",
        "\n",
        "print(word_common)"
      ],
      "metadata": {
        "id": "LNo0Fm8QcXJB"
      },
      "execution_count": null,
      "outputs": []
    },
    {
      "cell_type": "markdown",
      "source": [
        "#### **Assignment 7**\n",
        "\n",
        "1. Write a function called `is_ugly()` that takes an integer as an input and returns `True` if the number is ugly!\n",
        "\n",
        "Ugly number is a number that its factors <font color=red> limited to 2 or 3, or 5 </font>\n",
        "\n",
        "Look at the Examples below and the explanation so that you fully understand the problem: <br><br>\n",
        "\n",
        "`is_ugly(6)`\n",
        "\n",
        "Output: `True` <font color=red> Because 6 has only 2 and 3 as its factors<font>\n",
        "\n",
        "`is_ugly(14)`\n",
        "\n",
        "Output: `False` <font color=red> Because 14 has 7 as its factors and thats not acceptable<font>\n",
        "\n",
        "`is_ugly(30)` \n",
        "\n",
        "Output: `True` <font color=red> Because 30 has only 2, 3 and 5 as its factors<font>\n",
        "\n",
        "`is_ugly(21)`\n",
        "\n",
        "Output: `False` <font color=red> Because 21 has 7 as its factors and thats not acceptable<font>"
      ],
      "metadata": {
        "id": "5XwwK5krcYch"
      }
    },
    {
      "cell_type": "code",
      "source": [
        "def is_ugly(n):\n",
        "\n",
        "\n",
        "  return True"
      ],
      "metadata": {
        "id": "RX8fx0SjdrD1"
      },
      "execution_count": null,
      "outputs": []
    },
    {
      "cell_type": "markdown",
      "metadata": {
        "id": "WsNIvHMOhedj"
      },
      "source": [
        "## **Resources**\n",
        "* CEAS Library Python resources - http://guides.libraries.uc.edu/python\n",
        "* Online links & tutorials\n",
        " * Python documentation - https://www.python.org/doc/\n",
        " * Python Programming wiki book - http://en.wikibooks.org/wiki/Python_Programming\n",
        " * Python tutorials - Udemy, Code academy, etc  "
      ]
    },
    {
      "cell_type": "markdown",
      "metadata": {
        "id": "SYV7br7ehedj"
      },
      "source": [
        "\n",
        "**<center>Thanks for attending the workshop !!**\n",
        "\n",
        "\n",
        "**<center>Your kind suggestions/feedbacks are more than welcome**"
      ]
    }
  ],
  "metadata": {
    "kernelspec": {
      "display_name": "Python 3",
      "language": "python",
      "name": "python3"
    },
    "language_info": {
      "codemirror_mode": {
        "name": "ipython",
        "version": 3
      },
      "file_extension": ".py",
      "mimetype": "text/x-python",
      "name": "python",
      "nbconvert_exporter": "python",
      "pygments_lexer": "ipython3",
      "version": "3.6.5"
    },
    "colab": {
      "provenance": [],
      "collapsed_sections": [
        "kc0-HoouhedR",
        "bdy3mf2NhedX",
        "TFpD1fFShedX",
        "PVWBoBM6hedZ",
        "8Y5n5oTQheda",
        "vhYWZ4ucheda",
        "npou2W_ihedb",
        "qTPlJ3z6hedd",
        "MZMg6yzDhedi",
        "1xQz1FzgsqLg"
      ]
    }
  },
  "nbformat": 4,
  "nbformat_minor": 0
}